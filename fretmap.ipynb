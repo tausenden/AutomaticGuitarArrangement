{
 "cells": [
  {
   "cell_type": "markdown",
   "metadata": {},
   "source": [
    "pretty_midi\n",
    "直接生成guitar tab\n",
    "Guitar Fret"
   ]
  },
  {
   "cell_type": "code",
   "execution_count": 1,
   "metadata": {},
   "outputs": [],
   "source": [
    "class Guitar():\n",
    "    def __init__(self,tuning=[40, 45, 50, 55, 59, 64], fretnum=24):\n",
    "        self.tuning= tuning\n",
    "        self.fretnum=fretnum\n",
    "        def genfboard():\n",
    "            boarddic={}\n",
    "            stri=6\n",
    "            for i in self.tuning:\n",
    "                boarddic[stri]=[]\n",
    "                for j in range(self.fretnum+1):\n",
    "                    boarddic[stri].append(i+j)\n",
    "                stri-=1\n",
    "            return boarddic\n",
    "        self.fboard=genfboard()\n",
    "        self.chords = {\n",
    "            #C major& A minor\n",
    "            \"C\": [  # 再细化，只包含可替换的和弦，根据chords with color来\n",
    "                    # CAGED 根据规则\n",
    "                {6: 0, 5: 3, 4: 2, 3: 0, 2: 1, 1: 0},#Triad\n",
    "                {6: 0, 5: 3, 4: 0, 3: 0, 2: 3, 1: 3},#sus2\n",
    "                {6: 0, 5: 3, 4: 3, 3: 0, 2: 1, 1: 3},#sus4\n",
    "                {6: 0, 5: 3, 4: 2, 3: 0, 2: 3, 1: 3},#add9\n",
    "                {6: 0, 5: 3, 4: 2, 3: 2, 2: 1, 1: 0},#6\n",
    "                {6: 0, 5: 3, 4: 2, 3: 0, 2: 0, 1: 0},#7\n",
    "                {6: 0, 5: 3, 4: 2, 3: 4, 2: 3, 1: 0}#9\n",
    "            ],\n",
    "            \"D\": [\n",
    "                {6: 0, 5: 0, 4: 0, 3: 2, 2: 3, 1: 1},#Triad\n",
    "                {6: 0, 5: 0, 4: 0, 3: 2, 2: 3, 1: 0},#sus2\n",
    "                {6: 0, 5: 0, 4: 0, 3: 2, 2: 3, 1: 3},#sus4\n",
    "                {6: 0, 5: 0, 4: 3, 3: 2, 2: 3, 1: 0},#add9\n",
    "                {6: 0, 5: 0, 4: 0, 3: 2, 2: 0, 1: 1},#6\n",
    "                {6: 0, 5: 0, 4: 0, 3: 2, 2: 1, 1: 1},#7\n",
    "                {6: 0, 5: 5, 4: 3, 3: 5, 2: 5, 1: 0}#9\n",
    "            ],\n",
    "            \"E\": [\n",
    "                {6: 0, 5: 2, 4: 2, 3: 0, 2: 0, 1: 0},#Triad\n",
    "                {6: 0, 5: 2, 4: 2, 3: 2, 2: 0, 1: 0},#sus4\n",
    "                {6: 0, 5: 2, 4: 2, 3: 0, 2: 3, 1: 0}#7\n",
    "            ],\n",
    "            \"F\": [\n",
    "                {6: 1, 5: 3, 4: 3, 3: 2, 2: 1, 1: 1},#Triad\n",
    "                {6: 0, 5: 3, 4: 3, 3: 0, 2: 1, 1: 1},#sus2\n",
    "                {6: 0, 5: 0, 4: 3, 3: 2, 2: 1, 1: 3},#add9\n",
    "                {6: 0, 5: 0, 4: 3, 3: 2, 2: 3, 1: 1},#6\n",
    "                {6: 0, 5: 0, 4: 3, 3: 2, 2: 1, 1: 0},#7\n",
    "                {6: 0, 5: 8, 4: 7, 3: 9, 2: 8, 1: 0}#9\n",
    "\n",
    "            ],\n",
    "            \"G\": [\n",
    "                {6: 3, 5: 2, 4: 0, 3: 0, 2: 0, 1: 3},#Triad\n",
    "                {6: 3, 5: 0, 4: 0, 3: 2, 2: 3, 1: 3},#sus2\n",
    "                {6: 3, 5: 3, 4: 0, 3: 0, 2: 1, 1: 3},#sus4\n",
    "                {6: 3, 5: 0, 4: 0, 3: 2, 2: 0, 1: 3},#add9\n",
    "                {6: 3, 5: 2, 4: 0, 3: 0, 2: 3, 1: 0},#6 \n",
    "                {6: 3, 5: 2, 4: 3, 3: 0, 2: 0, 1: 3}#7\n",
    "            ],\n",
    "            \"A\": [\n",
    "                {6: 0, 5: 0, 4: 2, 3: 2, 2: 1, 1: 0},#Triad\n",
    "                {6: 0, 5: 0, 4: 2, 3: 2, 2: 0, 1: 0},#sus2\n",
    "                {6: 0, 5: 0, 4: 2, 3: 2, 2: 3, 1: 0},#sus4\n",
    "                {6: 0, 5: 0, 4: 2, 3: 4, 2: 1, 1: 0},#add9\n",
    "                {6: 0, 5: 0, 4: 2, 3: 0, 2: 1, 1: 0},#7\n",
    "\n",
    "            ],\n",
    "            \"B\": [\n",
    "                {6: 0, 5: 2, 4: 3, 3: 4, 2: 3, 1: 0},#Triad\n",
    "                {6: 0, 5: 2, 4: 3, 3: 2, 2: 3, 1: 0}#7\n",
    "            ],\n",
    "        }\n",
    "\n",
    "    def get_chord_midi(self, chord_fingering):\n",
    "\n",
    "        midi_notes = []\n",
    "        for string, fret in chord_fingering.items():\n",
    "            midi_note = self.fboard[string][fret]\n",
    "            midi_notes.append(midi_note)\n",
    "\n",
    "        return midi_notes\n",
    "\n",
    "class Hand():\n",
    "    def __init__(self):\n",
    "        self.f1=None\n",
    "        self.f2=None\n",
    "        self.f3=None\n",
    "        self.f4=None"
   ]
  },
  {
   "cell_type": "code",
   "execution_count": 2,
   "metadata": {},
   "outputs": [],
   "source": [
    "def find_best_fretboard_match(g, melody, width=4):\n",
    "\n",
    "    max_overlap = 0\n",
    "    best_section = None\n",
    "\n",
    "    for start_fret in range(g.fretnum - width + 1):\n",
    "        notes_in_range = set()\n",
    "        for string, frets in g.fboard.items():\n",
    "            notes_in_range.update(frets[start_fret : start_fret + width + 1])\n",
    "        overlap = len(set(melody) & notes_in_range)\n",
    "\n",
    "        if overlap > max_overlap:\n",
    "            max_overlap = overlap\n",
    "            best_section = (start_fret, start_fret + width)\n",
    "\n",
    "    return best_section, max_overlap"
   ]
  },
  {
   "cell_type": "code",
   "execution_count": 3,
   "metadata": {},
   "outputs": [],
   "source": [
    "def find_best_chord_match(g, m):\n",
    "    max_overlap = 0\n",
    "    best_chord = None\n",
    "\n",
    "    cname=m[0]\n",
    "    melody=m[1]\n",
    "    if cname not in g.chords:\n",
    "        raise ValueError(f\"Chord '{cname}' not found in Guitar instance.\")\n",
    "    \n",
    "    for fingering in g.chords[cname]:\n",
    "        chord=g.get_chord_midi(fingering)\n",
    "        overlap = len(set(melody) & set(chord))\n",
    "\n",
    "        if overlap > max_overlap:\n",
    "            max_overlap = overlap\n",
    "            best_chord = (fingering,chord)\n",
    "\n",
    "    return best_chord, max_overlap"
   ]
  },
  {
   "cell_type": "code",
   "execution_count": 4,
   "metadata": {},
   "outputs": [
    {
     "name": "stdout",
     "output_type": "stream",
     "text": [
      "Best section: frets (13, 17)\n",
      "Overlap: 0.6666666666666666\n",
      "Best Position: frets (0, 4)\n",
      "Overlap: 0.75\n"
     ]
    }
   ],
   "source": [
    "g1=Guitar()\n",
    "test_melody = [40, 75, 81, 47, 80, 55]\n",
    "test_melody2 = ['C', [40, 48, 52, 55, 62, 64, 80, 64]]\n",
    "width = 4 \n",
    "\n",
    "best_section, overlap = find_best_fretboard_match(g1, test_melody, width)\n",
    "\n",
    "print(f\"Best section: frets {best_section}\")    \n",
    "print(f\"Overlap: {overlap/len(test_melody)}\")\n",
    "\n",
    "best_section, overlap = find_best_fretboard_match(g1, test_melody2[1], width)\n",
    "\n",
    "print(f\"Best Position: frets {best_section}\")    \n",
    "print(f\"Overlap: {overlap/len(test_melody2[1])}\")"
   ]
  },
  {
   "cell_type": "code",
   "execution_count": 5,
   "metadata": {},
   "outputs": [
    {
     "name": "stdout",
     "output_type": "stream",
     "text": [
      "Best chord: ({6: 0, 5: 3, 4: 2, 3: 0, 2: 1, 1: 0}, [40, 48, 52, 55, 60, 64])\n",
      "Overlap: 0.3333333333333333\n",
      "Best chord: ({6: 0, 5: 3, 4: 2, 3: 0, 2: 1, 1: 0}, [40, 48, 52, 55, 60, 64])\n",
      "Overlap: 0.625\n"
     ]
    }
   ],
   "source": [
    "best_section, overlap = find_best_chord_match(g1, ['C',test_melody])\n",
    "\n",
    "print(f\"Best chord: {best_section}\")   \n",
    "print(f\"Overlap: {overlap/len(test_melody)}\")\n",
    "\n",
    "best_section, overlap = find_best_chord_match(g1, test_melody2)\n",
    "\n",
    "print(f\"Best chord: {best_section}\")    \n",
    "print(f\"Overlap: {overlap/len(test_melody2[1])}\")"
   ]
  },
  {
   "cell_type": "code",
   "execution_count": 6,
   "metadata": {},
   "outputs": [
    {
     "name": "stdout",
     "output_type": "stream",
     "text": [
      "[64, 65, 66, 67, 68, 69, 70, 71, 72, 73, 74, 75, 76, 77, 78, 79, 80, 81, 82, 83, 84, 85, 86, 87, 88]\n",
      "MIDI notes for chord: [40, 48, 52, 55, 60, 64]\n"
     ]
    }
   ],
   "source": [
    "print(g1.fboard[1])\n",
    "midi_notes = g1.get_chord_midi(g1.chords['C'][0])\n",
    "print(f\"MIDI notes for chord: {midi_notes}\")"
   ]
  },
  {
   "cell_type": "code",
   "execution_count": null,
   "metadata": {},
   "outputs": [],
   "source": []
  }
 ],
 "metadata": {
  "kernelspec": {
   "display_name": "GSC",
   "language": "python",
   "name": "python3"
  },
  "language_info": {
   "codemirror_mode": {
    "name": "ipython",
    "version": 3
   },
   "file_extension": ".py",
   "mimetype": "text/x-python",
   "name": "python",
   "nbconvert_exporter": "python",
   "pygments_lexer": "ipython3",
   "version": "3.12.7"
  }
 },
 "nbformat": 4,
 "nbformat_minor": 2
}
