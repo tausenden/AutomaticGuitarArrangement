{
 "cells": [
  {
   "cell_type": "code",
   "execution_count": 44,
   "metadata": {},
   "outputs": [],
   "source": [
    "import pretty_midi"
   ]
  },
  {
   "cell_type": "code",
   "execution_count": 45,
   "metadata": {},
   "outputs": [],
   "source": [
    "def ini_midi2d(midi_file):\n",
    "\n",
    "    midi_data = pretty_midi.PrettyMIDI(midi_file)\n",
    "    \n",
    "    melodies = []  # List to store melodies from each instrument\n",
    "    \n",
    "    # Iterate over all instruments in the MIDI file\n",
    "    for instrument in midi_data.instruments:\n",
    "        # Skip drums (if General MIDI percussion channel 10)\n",
    "        if instrument.is_drum:\n",
    "            continue\n",
    "        \n",
    "        # Extract the melody notes for this instrument\n",
    "        melody = [(note.pitch, note.start, note.end, note.velocity) for note in instrument.notes]\n",
    "        if melody:  # If the instrument has melody notes\n",
    "            melodies.append({\n",
    "                \"instrument_name\": instrument.name if instrument.name else \"Unknown\",\n",
    "                \"notes\": melody\n",
    "            })\n",
    "    \n",
    "    return melodies"
   ]
  },
  {
   "cell_type": "code",
   "execution_count": 46,
   "metadata": {},
   "outputs": [],
   "source": [
    "def ini_midi_onlyp(midi_file):\n",
    "    # Load the MIDI file\n",
    "    midi_data = pretty_midi.PrettyMIDI(midi_file)\n",
    "    \n",
    "    pitches = []  # List to store pitches from each instrument\n",
    "    \n",
    "    # Iterate over all instruments in the MIDI file\n",
    "    for instrument in midi_data.instruments:\n",
    "        # Skip drums (if General MIDI percussion channel 10)\n",
    "        if instrument.is_drum:\n",
    "            continue\n",
    "        \n",
    "        # Extract the pitch values for this instrument\n",
    "        instrument_pitches = [note.pitch for note in instrument.notes]\n",
    "        if instrument_pitches:  # If the instrument has notes\n",
    "            pitches.append({\n",
    "                \"instrument_name\": instrument.name if instrument.name else \"Unknown\",\n",
    "                \"pitches\": instrument_pitches\n",
    "            })\n",
    "    \n",
    "    return pitches"
   ]
  },
  {
   "cell_type": "code",
   "execution_count": 50,
   "metadata": {},
   "outputs": [
    {
     "name": "stdout",
     "output_type": "stream",
     "text": [
      "Instrument 1 (Unknown): [86, 88, 84, 81, 83, 79, 74, 76, 72, 69, 71, 67, 62, 64, 60, 57, 59, 57, 56, 55, 79, 74, 71, 62, 63, 64, 72, 64, 72, 64, 72, 84, 76, 86, 77, 87, 78, 88, 79, 84, 76, 86, 77, 88, 79, 83, 74, 86, 77, 84, 76, 62, 63, 64, 72, 64, 72, 64, 72, 81, 79, 78, 81, 84, 88, 78, 86, 84, 81, 86, 77, 62, 63, 64, 72, 64, 72, 64, 72, 84, 76, 86, 77, 87, 78, 88, 79, 84, 76, 86, 77, 88, 79, 83, 74, 86, 77, 84, 76, 84, 86, 88, 84, 86, 88, 84, 86, 84, 88, 84, 86, 88, 84, 86, 84, 88, 79, 84, 76, 86, 77, 88, 79, 83, 74, 86, 77, 84, 76, 62, 63, 64, 72, 64, 72, 64, 72, 84, 76, 86, 77, 87, 78, 88, 79, 84, 76, 86, 77, 88, 79, 83, 74, 86, 77, 84, 76, 62, 63, 64, 72, 64, 72, 64, 72, 81, 79, 78, 81, 84, 88, 78, 86, 84, 81, 86, 77, 62, 63, 64, 72, 64, 72, 64, 72, 84, 76, 86, 77, 87, 78, 88, 79, 84, 76, 86, 77, 88, 79, 83, 74, 86, 77, 84, 76, 84, 86, 88, 84, 86, 88, 84, 86, 84, 88, 84, 86, 88, 84, 86, 84, 88, 79, 84, 76, 86, 77, 88, 79, 83, 74, 86, 77, 84, 76, 76, 77, 78, 79, 76, 81, 79, 76, 76, 77, 78, 79, 76, 81, 79, 76, 76, 72, 67, 69, 71, 72, 74, 76, 74, 72, 74, 67, 76, 77, 79, 81, 79, 76, 77, 79, 76, 81, 79, 76, 76, 77, 78, 79, 76, 81, 79, 76, 79, 81, 82, 83, 83, 83, 81, 78, 74, 79, 76, 77, 78, 79, 76, 81, 79, 76, 76, 77, 78, 79, 76, 81, 79, 76, 76, 72, 67, 69, 71, 72, 74, 76, 74, 72, 74, 72, 67, 66, 67, 72, 69, 72, 69, 72, 69, 67, 72, 76, 79, 76, 72, 67, 69, 72, 76, 65, 74, 72, 64, 88, 89, 90, 79, 76, 81, 79, 76, 76, 77, 78, 79, 76, 81, 79, 76, 76, 72, 67, 69, 71, 72, 74, 76, 74, 72, 74, 67, 76, 77, 79, 81, 79, 76, 77, 79, 76, 81, 79, 76, 76, 77, 78, 79, 76, 81, 79, 76, 79, 81, 82, 83, 83, 83, 81, 78, 74, 79, 76, 77, 78, 79, 76, 81, 79, 76, 76, 77, 78, 79, 76, 81, 79, 76, 76, 72, 67, 69, 71, 72, 74, 76, 74, 72, 74, 72, 67, 66, 67, 72, 69, 72, 69, 72, 69, 67, 72, 76, 79, 76, 72, 67, 69, 72, 76, 65, 74, 72, 64, 62, 63, 64, 72, 64, 72, 64, 72, 84, 76, 86, 77, 87, 78, 88, 79, 84, 76, 86, 77, 88, 79, 83, 74, 86, 77, 84, 76, 62, 63, 64, 72, 64, 72, 64, 72, 81, 79, 78, 81, 84, 88, 78, 86, 84, 81, 86, 77, 62, 63, 64, 72, 64, 72, 64, 72, 84, 76, 86, 77, 87, 78, 88, 79, 84, 76, 86, 77, 88, 79, 83, 74, 86, 77, 84, 76, 84, 86, 88, 84, 86, 88, 84, 86, 84, 88, 84, 86, 88, 84, 86, 84, 88, 79, 84, 76, 86, 77, 88, 79, 83, 74, 86, 77, 84, 76, 84, 79, 76, 81, 77, 80, 81, 77, 84, 70, 69, 70, 72, 74, 86, 82, 77, 77, 74, 76, 77, 74, 81, 67, 66, 67, 69, 82, 79, 74, 70, 79, 74, 79, 74, 79, 74, 72, 77, 76, 80, 83, 88, 86, 83, 84, 81, 82, 70, 81, 77, 80, 81, 77, 84, 70, 69, 70, 72, 74, 86, 82, 77, 77, 74, 76, 77, 74, 81, 67, 66, 67, 69, 82, 79, 74, 70, 79, 74, 79, 74, 79, 74, 72, 77, 68, 77, 81, 72, 84, 79, 70, 72, 74, 76, 77, 69, 71, 72, 74, 76, 77, 79, 81, 77, 80, 81, 77, 84, 70, 69, 70, 72, 74, 86, 82, 77, 77, 74, 76, 77, 74, 81, 67, 66, 67, 69, 82, 79, 74, 70, 79, 74, 79, 74, 79, 74, 72, 77, 76, 80, 83, 88, 86, 83, 84, 81, 82, 70, 81, 77, 80, 81, 77, 84, 70, 69, 70, 72, 74, 86, 82, 77, 77, 74, 76, 77, 74, 81, 67, 66, 67, 69, 82, 79, 74, 70, 79, 74, 79, 74, 79, 74, 72, 77, 68, 77, 81, 72, 84, 79, 70, 72, 74, 76, 77, 69, 89, 84, 81, 72, 69, 72, 69, 72, 69, 67, 72, 76, 79, 76, 72, 67, 69, 72, 76, 65, 74, 72, 64, 84, 79, 76, 65, 62, 64, 65, 62, 64, 65, 62, 69, 74, 65, 69, 72, 74, 72, 69, 67, 64, 66, 67, 64, 66, 67, 64, 72, 76, 67, 72, 74, 76, 74, 72, 74, 71, 73, 74, 71, 73, 74, 71, 77, 81, 71, 77, 79, 81, 79, 77, 84, 72, 84, 72, 84, 72, 81, 72, 79, 72, 67, 64, 67, 64, 67, 64, 67, 64, 65, 62, 64, 65, 62, 64, 65, 62, 69, 74, 65, 69, 72, 74, 72, 69, 67, 64, 66, 67, 64, 66, 67, 64, 72, 76, 67, 72, 74, 76, 74, 72, 69, 68, 69, 79, 77, 72, 76, 75, 76, 81, 84, 79, 76, 72, 66, 72, 66, 76, 65, 74, 65, 72, 64, 67, 64, 67, 64, 67, 64, 67, 64, 65, 62, 64, 65, 62, 64, 65, 62, 69, 74, 65, 69, 72, 74, 72, 69, 67, 64, 66, 67, 64, 66, 67, 64, 72, 76, 67, 72, 74, 76, 74, 72, 74, 71, 73, 74, 71, 73, 74, 71, 77, 81, 71, 77, 79, 81, 79, 77, 84, 72, 84, 72, 84, 72, 81, 72, 79, 72, 67, 64, 67, 64, 67, 64, 67, 64, 65, 62, 64, 65, 62, 64, 65, 62, 69, 74, 65, 69, 72, 74, 72, 69, 67, 64, 66, 67, 64, 66, 67, 64, 72, 76, 67, 72, 74, 76, 74, 72, 69, 68, 69, 79, 77, 72, 76, 75, 76, 81, 84, 79, 76, 72, 66, 72, 66, 76, 65, 74, 65, 72, 64, 84, 79, 76]\n",
      "Instrument 2 (Unknown): [50, 52, 48, 45, 47, 45, 44, 43, 43, 31, 48, 60, 55, 52, 60, 55, 53, 60, 57, 52, 60, 55, 43, 55, 52, 43, 55, 53, 48, 60, 55, 60, 55, 59, 55, 53, 48, 60, 55, 52, 60, 55, 53, 60, 57, 52, 51, 50, 60, 54, 50, 60, 54, 59, 55, 43, 45, 47, 48, 60, 55, 52, 60, 55, 53, 60, 57, 52, 60, 55, 43, 55, 52, 43, 55, 53, 48, 60, 55, 60, 55, 64, 60, 64, 60, 64, 60, 58, 64, 60, 58, 65, 60, 57, 65, 60, 57, 65, 60, 56, 65, 60, 56, 64, 60, 55, 64, 60, 55, 65, 59, 55, 65, 59, 55, 64, 60, 43, 45, 47, 48, 60, 55, 52, 60, 55, 53, 60, 57, 52, 60, 55, 43, 55, 52, 43, 55, 53, 48, 60, 55, 60, 55, 59, 55, 53, 48, 60, 55, 52, 60, 55, 53, 60, 57, 52, 51, 50, 60, 54, 50, 60, 54, 59, 55, 43, 45, 47, 48, 60, 55, 52, 60, 55, 53, 60, 57, 52, 60, 55, 43, 55, 52, 43, 55, 53, 48, 60, 55, 60, 55, 64, 60, 64, 60, 64, 60, 58, 64, 60, 58, 65, 60, 57, 65, 60, 57, 65, 60, 56, 65, 60, 56, 64, 60, 55, 64, 60, 55, 65, 59, 55, 65, 59, 55, 64, 60, 55, 48, 48, 55, 52, 43, 55, 52, 48, 55, 52, 43, 55, 52, 53, 60, 57, 53, 60, 56, 48, 55, 52, 43, 55, 52, 48, 55, 52, 43, 55, 52, 48, 55, 52, 52, 51, 50, 59, 55, 50, 60, 54, 59, 55, 53, 52, 50, 48, 55, 52, 43, 55, 52, 48, 55, 52, 43, 55, 52, 53, 60, 57, 53, 60, 56, 48, 55, 52, 48, 55, 52, 60, 57, 53, 60, 57, 53, 63, 57, 54, 63, 57, 54, 64, 60, 55, 64, 60, 55, 64, 60, 55, 64, 60, 55, 60, 54, 50, 60, 54, 50, 59, 55, 59, 55, 60, 55, 52, 50, 48, 55, 52, 43, 55, 52, 48, 55, 52, 43, 55, 52, 53, 60, 57, 53, 60, 56, 48, 55, 52, 43, 55, 52, 48, 55, 52, 43, 55, 52, 48, 55, 52, 52, 51, 50, 59, 55, 50, 60, 54, 59, 55, 53, 52, 50, 48, 55, 52, 43, 55, 52, 48, 55, 52, 43, 55, 52, 53, 60, 57, 53, 60, 56, 48, 55, 52, 48, 55, 52, 60, 57, 53, 60, 57, 53, 63, 57, 54, 63, 57, 54, 64, 60, 55, 64, 60, 55, 64, 60, 55, 64, 60, 55, 60, 54, 50, 60, 54, 50, 59, 55, 59, 55, 60, 55, 48, 48, 60, 55, 52, 60, 55, 53, 60, 57, 52, 60, 55, 43, 55, 52, 43, 55, 53, 48, 60, 55, 60, 55, 59, 55, 53, 48, 60, 55, 52, 60, 55, 53, 60, 57, 52, 51, 50, 60, 54, 50, 60, 54, 59, 55, 43, 45, 47, 48, 60, 55, 52, 60, 55, 53, 60, 57, 52, 60, 55, 43, 55, 52, 43, 55, 53, 48, 60, 55, 60, 55, 64, 60, 64, 60, 64, 60, 58, 64, 60, 58, 65, 60, 57, 65, 60, 57, 65, 60, 56, 65, 60, 56, 64, 60, 55, 64, 60, 55, 65, 59, 55, 65, 59, 55, 64, 60, 55, 48, 36, 41, 57, 53, 48, 57, 53, 46, 62, 58, 53, 62, 58, 38, 57, 53, 45, 57, 53, 43, 62, 58, 50, 62, 58, 55, 62, 58, 55, 56, 57, 65, 60, 50, 62, 57, 52, 64, 62, 56, 64, 62, 64, 60, 57, 64, 60, 55, 48, 41, 57, 53, 48, 57, 53, 46, 62, 58, 53, 62, 58, 38, 57, 53, 45, 57, 53, 43, 62, 58, 50, 62, 58, 55, 62, 58, 55, 56, 57, 53, 52, 50, 49, 37, 48, 57, 53, 60, 48, 57, 53, 41, 57, 53, 48, 57, 53, 46, 62, 58, 53, 62, 58, 38, 57, 53, 45, 57, 53, 43, 62, 58, 50, 62, 58, 55, 62, 58, 55, 56, 57, 65, 60, 50, 62, 57, 52, 64, 62, 56, 64, 62, 64, 60, 57, 64, 60, 55, 48, 41, 57, 53, 48, 57, 53, 46, 62, 58, 53, 62, 58, 38, 57, 53, 45, 57, 53, 43, 62, 58, 50, 62, 58, 55, 62, 58, 55, 56, 57, 53, 52, 50, 49, 37, 48, 57, 53, 60, 48, 57, 53, 53, 41, 60, 57, 53, 60, 57, 53, 63, 57, 54, 63, 57, 54, 64, 60, 55, 64, 60, 55, 64, 60, 55, 64, 60, 55, 60, 50, 57, 50, 59, 55, 59, 55, 60, 48, 36, 41, 57, 53, 45, 57, 53, 41, 57, 53, 45, 57, 53, 48, 55, 52, 43, 55, 52, 48, 55, 52, 43, 55, 52, 43, 55, 53, 50, 55, 53, 43, 55, 53, 50, 55, 53, 54, 51, 54, 51, 54, 51, 54, 51, 55, 52, 41, 57, 53, 45, 57, 53, 41, 57, 53, 45, 57, 53, 48, 55, 52, 43, 55, 52, 48, 55, 52, 52, 60, 55, 53, 50, 52, 53, 55, 64, 60, 63, 60, 54, 64, 60, 55, 57, 45, 50, 55, 43, 59, 47, 60, 48, 41, 57, 53, 45, 57, 53, 41, 57, 53, 45, 57, 53, 48, 55, 52, 43, 55, 52, 48, 55, 52, 43, 55, 52, 43, 55, 53, 50, 55, 53, 43, 55, 53, 50, 55, 53, 54, 51, 54, 51, 54, 51, 54, 51, 55, 52, 41, 57, 53, 45, 57, 53, 41, 57, 53, 45, 57, 53, 48, 55, 52, 43, 55, 52, 48, 55, 52, 52, 60, 55, 53, 50, 52, 53, 55, 64, 60, 63, 60, 54, 64, 60, 55, 57, 45, 50, 55, 43, 59, 47, 60, 48, 55, 48, 36]\n"
     ]
    },
    {
     "name": "stderr",
     "output_type": "stream",
     "text": [
      "<>:2: SyntaxWarning: invalid escape sequence '\\T'\n",
      "<>:2: SyntaxWarning: invalid escape sequence '\\T'\n",
      "C:\\Users\\User\\AppData\\Local\\Temp\\ipykernel_24024\\1869295029.py:2: SyntaxWarning: invalid escape sequence '\\T'\n",
      "  midi_file = \"midis\\The_Entertainer_-_Scott_Joplin.mid\"\n"
     ]
    }
   ],
   "source": [
    "\n",
    "# Example usage\n",
    "midi_file = \"midis\\The_Entertainer_-_Scott_Joplin.mid\"\n",
    "melodies = ini_midi2d(midi_file)\n",
    "melodies = ini_midi_onlyp(midi_file)\n",
    "\n",
    "# for i, track in enumerate(melodies):\n",
    "#     print(f\"Instrument {i+1} ({track['instrument_name']}):\")\n",
    "#     for note in track[\"notes\"]:\n",
    "#         print(f\"  Pitch: {note[0]}, Start: {note[1]:.2f}, End: {note[2]:.2f}, Velocity: {note[3]}\")\n",
    "\n",
    "for i, track in enumerate(melodies):\n",
    "    print(f\"Instrument {i+1} ({track['instrument_name']}): {track['pitches']}\")"
   ]
  },
  {
   "cell_type": "code",
   "execution_count": 48,
   "metadata": {},
   "outputs": [],
   "source": [
    "import numpy as np\n",
    "import pyaudio\n",
    "\n",
    "def midi_to_freq(midi_pitch):\n",
    "    return 440.0 * (2.0 ** ((midi_pitch - 69) / 12.0))\n",
    "\n",
    "def generate_sine_wave(frequency, duration, sample_rate=44100, amplitude=0.4):\n",
    "    t = np.linspace(0, duration, int(sample_rate * duration), endpoint=False)\n",
    "    wave = amplitude * np.sin(2 * np.pi * frequency * t)\n",
    "    return wave.astype(np.float32)\n",
    "\n",
    "def play_wave(wave, sample_rate=44100):\n",
    "    p = pyaudio.PyAudio()\n",
    "    stream = p.open(format=pyaudio.paFloat32, channels=1, rate=sample_rate, output=True)\n",
    "    stream.write(wave)\n",
    "    stream.stop_stream()\n",
    "    stream.close()\n",
    "    p.terminate()\n",
    "\n",
    "def play_pitch_list(pitch_list, note_duration=0.8, sample_rate=44100):\n",
    "    for pitch in pitch_list:\n",
    "        if pitch is None: \n",
    "            print(\"Rest\")\n",
    "            continue\n",
    "        frequency = midi_to_freq(pitch)\n",
    "        #print(f\"Playing note {pitch} with frequency {frequency:.2f} Hz\")\n",
    "        wave = generate_sine_wave(frequency, note_duration, sample_rate)\n",
    "        play_wave(wave, sample_rate)\n",
    "\n"
   ]
  },
  {
   "cell_type": "code",
   "execution_count": null,
   "metadata": {},
   "outputs": [
    {
     "ename": "KeyboardInterrupt",
     "evalue": "",
     "output_type": "error",
     "traceback": [
      "\u001b[1;31m---------------------------------------------------------------------------\u001b[0m",
      "\u001b[1;31mKeyboardInterrupt\u001b[0m                         Traceback (most recent call last)",
      "Cell \u001b[1;32mIn[49], line 3\u001b[0m\n\u001b[0;32m      1\u001b[0m pitch_list \u001b[38;5;241m=\u001b[39m [\u001b[38;5;241m50\u001b[39m, \u001b[38;5;241m52\u001b[39m, \u001b[38;5;241m48\u001b[39m, \u001b[38;5;241m45\u001b[39m, \u001b[38;5;241m47\u001b[39m, \u001b[38;5;241m45\u001b[39m, \u001b[38;5;241m44\u001b[39m, \u001b[38;5;241m43\u001b[39m, \u001b[38;5;241m43\u001b[39m, \u001b[38;5;241m31\u001b[39m, \u001b[38;5;241m48\u001b[39m, \u001b[38;5;241m60\u001b[39m, \u001b[38;5;241m55\u001b[39m, \u001b[38;5;241m52\u001b[39m, \u001b[38;5;241m60\u001b[39m, \u001b[38;5;241m55\u001b[39m, \u001b[38;5;241m53\u001b[39m, \u001b[38;5;241m60\u001b[39m]\n\u001b[0;32m      2\u001b[0m \u001b[38;5;66;03m#play_pitch_list(pitch_list)\u001b[39;00m\n\u001b[1;32m----> 3\u001b[0m \u001b[43mplay_pitch_list\u001b[49m\u001b[43m(\u001b[49m\u001b[43mmelodies\u001b[49m\u001b[43m[\u001b[49m\u001b[38;5;241;43m0\u001b[39;49m\u001b[43m]\u001b[49m\u001b[43m[\u001b[49m\u001b[38;5;124;43m'\u001b[39;49m\u001b[38;5;124;43mpitches\u001b[39;49m\u001b[38;5;124;43m'\u001b[39;49m\u001b[43m]\u001b[49m\u001b[43m)\u001b[49m\n",
      "Cell \u001b[1;32mIn[48], line 28\u001b[0m, in \u001b[0;36mplay_pitch_list\u001b[1;34m(pitch_list, note_duration, sample_rate)\u001b[0m\n\u001b[0;32m     26\u001b[0m \u001b[38;5;66;03m#print(f\"Playing note {pitch} with frequency {frequency:.2f} Hz\")\u001b[39;00m\n\u001b[0;32m     27\u001b[0m wave \u001b[38;5;241m=\u001b[39m generate_sine_wave(frequency, note_duration, sample_rate)\n\u001b[1;32m---> 28\u001b[0m \u001b[43mplay_wave\u001b[49m\u001b[43m(\u001b[49m\u001b[43mwave\u001b[49m\u001b[43m,\u001b[49m\u001b[43m \u001b[49m\u001b[43msample_rate\u001b[49m\u001b[43m)\u001b[49m\n",
      "Cell \u001b[1;32mIn[48], line 15\u001b[0m, in \u001b[0;36mplay_wave\u001b[1;34m(wave, sample_rate)\u001b[0m\n\u001b[0;32m     13\u001b[0m p \u001b[38;5;241m=\u001b[39m pyaudio\u001b[38;5;241m.\u001b[39mPyAudio()\n\u001b[0;32m     14\u001b[0m stream \u001b[38;5;241m=\u001b[39m p\u001b[38;5;241m.\u001b[39mopen(\u001b[38;5;28mformat\u001b[39m\u001b[38;5;241m=\u001b[39mpyaudio\u001b[38;5;241m.\u001b[39mpaFloat32, channels\u001b[38;5;241m=\u001b[39m\u001b[38;5;241m1\u001b[39m, rate\u001b[38;5;241m=\u001b[39msample_rate, output\u001b[38;5;241m=\u001b[39m\u001b[38;5;28;01mTrue\u001b[39;00m)\n\u001b[1;32m---> 15\u001b[0m \u001b[43mstream\u001b[49m\u001b[38;5;241;43m.\u001b[39;49m\u001b[43mwrite\u001b[49m\u001b[43m(\u001b[49m\u001b[43mwave\u001b[49m\u001b[43m)\u001b[49m\n\u001b[0;32m     16\u001b[0m stream\u001b[38;5;241m.\u001b[39mstop_stream()\n\u001b[0;32m     17\u001b[0m stream\u001b[38;5;241m.\u001b[39mclose()\n",
      "File \u001b[1;32md:\\anaconda3\\envs\\GSC\\Lib\\site-packages\\pyaudio\\__init__.py:550\u001b[0m, in \u001b[0;36mPyAudio.Stream.write\u001b[1;34m(self, frames, num_frames, exception_on_underflow)\u001b[0m\n\u001b[0;32m    547\u001b[0m     width \u001b[38;5;241m=\u001b[39m get_sample_size(\u001b[38;5;28mself\u001b[39m\u001b[38;5;241m.\u001b[39m_format)\n\u001b[0;32m    548\u001b[0m     num_frames \u001b[38;5;241m=\u001b[39m \u001b[38;5;28mint\u001b[39m(\u001b[38;5;28mlen\u001b[39m(frames) \u001b[38;5;241m/\u001b[39m (\u001b[38;5;28mself\u001b[39m\u001b[38;5;241m.\u001b[39m_channels \u001b[38;5;241m*\u001b[39m width))\n\u001b[1;32m--> 550\u001b[0m \u001b[43mpa\u001b[49m\u001b[38;5;241;43m.\u001b[39;49m\u001b[43mwrite_stream\u001b[49m\u001b[43m(\u001b[49m\u001b[38;5;28;43mself\u001b[39;49m\u001b[38;5;241;43m.\u001b[39;49m\u001b[43m_stream\u001b[49m\u001b[43m,\u001b[49m\u001b[43m \u001b[49m\u001b[43mframes\u001b[49m\u001b[43m,\u001b[49m\u001b[43m \u001b[49m\u001b[43mnum_frames\u001b[49m\u001b[43m,\u001b[49m\n\u001b[0;32m    551\u001b[0m \u001b[43m                \u001b[49m\u001b[43mexception_on_underflow\u001b[49m\u001b[43m)\u001b[49m\n",
      "\u001b[1;31mKeyboardInterrupt\u001b[0m: "
     ]
    }
   ],
   "source": [
    "pitch_list = [50, 52, 48, 45, 47, 45, 44, 43, 43, 31, 48, 60, 55, 52, 60, 55, 53, 60]\n",
    "#play_pitch_list(pitch_list)\n",
    "play_pitch_list(melodies[1]['pitches'])"
   ]
  }
 ],
 "metadata": {
  "kernelspec": {
   "display_name": "GSC",
   "language": "python",
   "name": "python3"
  },
  "language_info": {
   "codemirror_mode": {
    "name": "ipython",
    "version": 3
   },
   "file_extension": ".py",
   "mimetype": "text/x-python",
   "name": "python",
   "nbconvert_exporter": "python",
   "pygments_lexer": "ipython3",
   "version": "3.12.7"
  }
 },
 "nbformat": 4,
 "nbformat_minor": 2
}
