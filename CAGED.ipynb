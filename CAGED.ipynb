{
 "cells": [
  {
   "cell_type": "code",
   "execution_count": 18,
   "metadata": {},
   "outputs": [],
   "source": [
    "from utlis import Guitar"
   ]
  },
  {
   "cell_type": "code",
   "execution_count": 19,
   "metadata": {},
   "outputs": [],
   "source": [
    "class CAGEDSystem:\n",
    "    def __init__(self, guitar):\n",
    "        self.guitar = guitar\n",
    "        # CAGED系统中的基础位置\n",
    "        self.root_positions = {\n",
    "            'C': {'shape': 'C', 'base_fret': 0},\n",
    "            'A': {'shape': 'A', 'base_fret': 0},\n",
    "            'G': {'shape': 'G', 'base_fret': 0},\n",
    "            'E': {'shape': 'E', 'base_fret': 0},\n",
    "            'D': {'shape': 'D', 'base_fret': 0}\n",
    "        }\n",
    "        self.shape_transitions = {\n",
    "            'C': 'A',\n",
    "            'A': 'G',\n",
    "            'G': 'E',\n",
    "            'E': 'D',\n",
    "            'D': 'C'\n",
    "        }\n",
    "    \n",
    "    def transpose_fingering(self, fingering, fret_shift):\n",
    "        new_fingering = {}\n",
    "        for string, fret in fingering.items():\n",
    "            if fret == 0:  # 处理空弦：将其变为按弦\n",
    "                new_fingering[string] = fret_shift\n",
    "            else:\n",
    "                new_fingering[string] = fret + fret_shift\n",
    "        return new_fingering\n",
    "    \n",
    "    def get_caged_positions(self, chord_root):\n",
    "        positions = []\n",
    "        current_shape = None\n",
    "        \n",
    "        # 找到起始形状\n",
    "        for shape_root, data in self.root_positions.items():\n",
    "            if chord_root == shape_root:\n",
    "                current_shape = data['shape']\n",
    "                positions.append({\n",
    "                    'shape': current_shape,\n",
    "                    'position': data['base_fret'],\n",
    "                    'fingering': self.guitar.cagedshape[shape_root]\n",
    "                })\n",
    "                break\n",
    "        \n",
    "        if not current_shape:\n",
    "            return positions\n",
    "        \n",
    "        # 生成其他位置\n",
    "        next_shape = self.shape_transitions[current_shape]\n",
    "        fret_position = max(self.guitar.cagedshape[current_shape].values())\n",
    "        \n",
    "        while fret_position <= self.guitar.fretnum - 3:\n",
    "            base_fingering = self.guitar.cagedshape[next_shape]\n",
    "            new_fingering = self.transpose_fingering(base_fingering, fret_position)\n",
    "            \n",
    "            positions.append({\n",
    "                'shape': next_shape,\n",
    "                'position': fret_position,\n",
    "                'fingering': new_fingering\n",
    "            })\n",
    "            \n",
    "            next_shape = self.shape_transitions[next_shape]\n",
    "            fret_position = max(new_fingering.values())\n",
    "        \n",
    "        return positions\n",
    "    \n",
    "    def find_nearest_position(self, chord_root, target_fret):\n",
    "        positions = self.get_caged_positions(chord_root)\n",
    "        if not positions:\n",
    "            return None\n",
    "            \n",
    "        nearest_pos = min(positions, key=lambda x: abs(x['position'] - target_fret))\n",
    "        return nearest_pos\n",
    "    \n",
    "    def get_chord_notes(self, position):\n",
    "        return self.guitar.get_chord_midi(position['fingering'])\n"
   ]
  },
  {
   "cell_type": "code",
   "execution_count": 20,
   "metadata": {},
   "outputs": [],
   "source": [
    "def demonstrate_caged():\n",
    "    guitar = Guitar()\n",
    "    caged = CAGEDSystem(guitar)\n",
    "    \n",
    "    chord = \"C\"\n",
    "    positions = caged.get_caged_positions(chord)\n",
    "    \n",
    "    print(f\"{chord}chord:\")\n",
    "    for pos in positions:\n",
    "        print(f\"\\nshape: {pos['shape']}, position: {pos['position']}\")\n",
    "        print(f\"- fingering: {pos['fingering']}\")\n",
    "        print(f\"- MIDI: {caged.get_chord_notes(pos)}\")"
   ]
  },
  {
   "cell_type": "code",
   "execution_count": 21,
   "metadata": {},
   "outputs": [],
   "source": [
    "def demonstrate_nearest():\n",
    "    guitar = Guitar()\n",
    "    caged = CAGEDSystem(guitar)\n",
    "    \n",
    "    chord = \"C\"\n",
    "    target_fret = 7\n",
    "    \n",
    "    nearest = caged.find_nearest_position(chord, target_fret)\n",
    "    print(f\"在{target_fret}品附近的{chord}和弦位置:\")\n",
    "    print(f\"shape: {nearest['shape']}, position: {nearest['position']}\")\n",
    "    print(f\"fingering: {nearest['fingering']}\")\n",
    "    print(f\"MIDI: {caged.get_chord_notes(nearest)}\")"
   ]
  },
  {
   "cell_type": "code",
   "execution_count": 22,
   "metadata": {},
   "outputs": [
    {
     "name": "stdout",
     "output_type": "stream",
     "text": [
      "Cchord:\n",
      "\n",
      "shape: C, position: 0\n",
      "- fingering: {6: 0, 5: 3, 4: 2, 3: 0, 2: 1, 1: 0}\n",
      "- MIDI: [40, 48, 52, 55, 60, 64]\n",
      "\n",
      "shape: A, position: 3\n",
      "- fingering: {6: 3, 5: 3, 4: 5, 3: 5, 2: 5, 1: 3}\n",
      "- MIDI: [43, 48, 55, 60, 64, 67]\n",
      "\n",
      "shape: G, position: 5\n",
      "- fingering: {6: 8, 5: 7, 4: 5, 3: 5, 2: 5, 1: 8}\n",
      "- MIDI: [48, 52, 55, 60, 64, 72]\n",
      "\n",
      "shape: E, position: 8\n",
      "- fingering: {6: 8, 5: 10, 4: 10, 3: 9, 2: 8, 1: 8}\n",
      "- MIDI: [48, 55, 60, 64, 67, 72]\n",
      "\n",
      "shape: D, position: 10\n",
      "- fingering: {6: 10, 5: 10, 4: 10, 3: 12, 2: 13, 1: 12}\n",
      "- MIDI: [50, 55, 60, 67, 72, 76]\n",
      "\n",
      "shape: C, position: 13\n",
      "- fingering: {6: 13, 5: 16, 4: 15, 3: 13, 2: 14, 1: 13}\n",
      "- MIDI: [53, 61, 65, 68, 73, 77]\n",
      "\n",
      "shape: A, position: 16\n",
      "- fingering: {6: 16, 5: 16, 4: 18, 3: 18, 2: 18, 1: 16}\n",
      "- MIDI: [56, 61, 68, 73, 77, 80]\n",
      "\n",
      "shape: G, position: 18\n",
      "- fingering: {6: 21, 5: 20, 4: 18, 3: 18, 2: 18, 1: 21}\n",
      "- MIDI: [61, 65, 68, 73, 77, 85]\n",
      "\n",
      "shape: E, position: 21\n",
      "- fingering: {6: 21, 5: 23, 4: 23, 3: 22, 2: 21, 1: 21}\n",
      "- MIDI: [61, 68, 73, 77, 80, 85]\n"
     ]
    }
   ],
   "source": [
    "demonstrate_caged()"
   ]
  },
  {
   "cell_type": "code",
   "execution_count": 23,
   "metadata": {},
   "outputs": [
    {
     "name": "stdout",
     "output_type": "stream",
     "text": [
      "在7品附近的C和弦位置:\n",
      "shape: E, position: 8\n",
      "fingering: {6: 8, 5: 10, 4: 10, 3: 9, 2: 8, 1: 8}\n",
      "MIDI: [48, 55, 60, 64, 67, 72]\n"
     ]
    }
   ],
   "source": [
    "demonstrate_nearest()"
   ]
  }
 ],
 "metadata": {
  "kernelspec": {
   "display_name": "GSC",
   "language": "python",
   "name": "python3"
  },
  "language_info": {
   "codemirror_mode": {
    "name": "ipython",
    "version": 3
   },
   "file_extension": ".py",
   "mimetype": "text/x-python",
   "name": "python",
   "nbconvert_exporter": "python",
   "pygments_lexer": "ipython3",
   "version": "3.12.7"
  }
 },
 "nbformat": 4,
 "nbformat_minor": 2
}
